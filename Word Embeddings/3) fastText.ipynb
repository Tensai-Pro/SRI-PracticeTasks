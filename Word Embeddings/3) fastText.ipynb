{
  "nbformat": 4,
  "nbformat_minor": 0,
  "metadata": {
    "colab": {
      "provenance": [],
      "toc_visible": true,
      "authorship_tag": "ABX9TyPyuRwT0+DXjekOgcCAhzrN",
      "include_colab_link": true
    },
    "kernelspec": {
      "name": "python3",
      "display_name": "Python 3"
    },
    "language_info": {
      "name": "python"
    }
  },
  "cells": [
    {
      "cell_type": "markdown",
      "metadata": {
        "id": "view-in-github",
        "colab_type": "text"
      },
      "source": [
        "<a href=\"https://colab.research.google.com/github/Tensai-Pro/SRI-PracticeTasks/blob/master/Word%20Embeddings/3)%20fastText.ipynb\" target=\"_parent\"><img src=\"https://colab.research.google.com/assets/colab-badge.svg\" alt=\"Open In Colab\"/></a>"
      ]
    },
    {
      "cell_type": "code",
      "source": [
        "!pip install fasttext"
      ],
      "metadata": {
        "colab": {
          "base_uri": "https://localhost:8080/"
        },
        "id": "P2GVl7Y5JTDS",
        "outputId": "825d44e1-8db6-4cff-fa74-e4ec4679f0f7"
      },
      "execution_count": null,
      "outputs": [
        {
          "output_type": "stream",
          "name": "stdout",
          "text": [
            "Looking in indexes: https://pypi.org/simple, https://us-python.pkg.dev/colab-wheels/public/simple/\n",
            "Collecting fasttext\n",
            "  Downloading fasttext-0.9.2.tar.gz (68 kB)\n",
            "\u001b[2K     \u001b[90m━━━━━━━━━━━━━━━━━━━━━━━━━━━━━━━━━━━━━━━━\u001b[0m \u001b[32m68.8/68.8 kB\u001b[0m \u001b[31m2.7 MB/s\u001b[0m eta \u001b[36m0:00:00\u001b[0m\n",
            "\u001b[?25h  Preparing metadata (setup.py) ... \u001b[?25l\u001b[?25hdone\n",
            "Collecting pybind11>=2.2\n",
            "  Using cached pybind11-2.10.4-py3-none-any.whl (222 kB)\n",
            "Requirement already satisfied: setuptools>=0.7.0 in /usr/local/lib/python3.10/dist-packages (from fasttext) (67.7.2)\n",
            "Requirement already satisfied: numpy in /usr/local/lib/python3.10/dist-packages (from fasttext) (1.22.4)\n",
            "Building wheels for collected packages: fasttext\n",
            "  Building wheel for fasttext (setup.py) ... \u001b[?25l\u001b[?25hdone\n",
            "  Created wheel for fasttext: filename=fasttext-0.9.2-cp310-cp310-linux_x86_64.whl size=4393484 sha256=7b757473180d73c912186e7b31b3341d4b7c9f11d832c396046c586ac2bc17a2\n",
            "  Stored in directory: /root/.cache/pip/wheels/a5/13/75/f811c84a8ab36eedbaef977a6a58a98990e8e0f1967f98f394\n",
            "Successfully built fasttext\n",
            "Installing collected packages: pybind11, fasttext\n",
            "Successfully installed fasttext-0.9.2 pybind11-2.10.4\n"
          ]
        }
      ]
    },
    {
      "cell_type": "code",
      "execution_count": null,
      "metadata": {
        "colab": {
          "base_uri": "https://localhost:8080/"
        },
        "id": "dtROpSwiH3C8",
        "outputId": "5fe559e9-6157-46db-8710-6d994d87e357"
      },
      "outputs": [
        {
          "output_type": "stream",
          "name": "stderr",
          "text": [
            "[nltk_data] Downloading package stopwords to /root/nltk_data...\n",
            "[nltk_data]   Package stopwords is already up-to-date!\n"
          ]
        }
      ],
      "source": [
        "import pandas as pd\n",
        "import numpy as np\n",
        "\n",
        "from gensim.utils import simple_preprocess\n",
        "from gensim.models import FastText\n",
        "\n",
        "import nltk;\n",
        "nltk.download('stopwords');\n",
        "from nltk.corpus import stopwords;\n",
        "# from nltk.stem.snowball import SnowballStemmer\n",
        "import string\n",
        "\n",
        "import spacy\n",
        "\n",
        "from sklearn.model_selection import train_test_split\n",
        "from sklearn.preprocessing import MinMaxScaler\n",
        "from sklearn.metrics import confusion_matrix, ConfusionMatrixDisplay\n",
        "from sklearn.naive_bayes import MultinomialNB\n",
        "from sklearn.svm import SVC\n",
        "from sklearn.neighbors import KNeighborsClassifier\n",
        "\n",
        "import fasttext"
      ]
    },
    {
      "cell_type": "code",
      "source": [
        "from google.colab import drive\n",
        "drive.mount('/content/gdrive')"
      ],
      "metadata": {
        "colab": {
          "base_uri": "https://localhost:8080/"
        },
        "id": "t7HlBvYQIJm2",
        "outputId": "172f8ff1-f7b4-44ee-fd41-f867adbced05"
      },
      "execution_count": null,
      "outputs": [
        {
          "output_type": "stream",
          "name": "stdout",
          "text": [
            "Drive already mounted at /content/gdrive; to attempt to forcibly remount, call drive.mount(\"/content/gdrive\", force_remount=True).\n"
          ]
        }
      ]
    },
    {
      "cell_type": "code",
      "source": [
        "df = pd.read_csv('/content/gdrive/MyDrive/Practice Files/train.zip')\n",
        "df.head(3)"
      ],
      "metadata": {
        "colab": {
          "base_uri": "https://localhost:8080/",
          "height": 143
        },
        "id": "VDgyUrk1IKry",
        "outputId": "0b55964e-9675-4008-cc2c-59c36f413632"
      },
      "execution_count": null,
      "outputs": [
        {
          "output_type": "execute_result",
          "data": {
            "text/plain": [
              "   Class Index                                              Title  \\\n",
              "0            3  Wall St. Bears Claw Back Into the Black (Reuters)   \n",
              "1            3  Carlyle Looks Toward Commercial Aerospace (Reu...   \n",
              "2            3    Oil and Economy Cloud Stocks' Outlook (Reuters)   \n",
              "\n",
              "                                         Description  \n",
              "0  Reuters - Short-sellers, Wall Street's dwindli...  \n",
              "1  Reuters - Private investment firm Carlyle Grou...  \n",
              "2  Reuters - Soaring crude prices plus worries\\ab...  "
            ],
            "text/html": [
              "\n",
              "  <div id=\"df-fe4b0e54-cc37-4df8-bbc4-4d0a16cb558c\">\n",
              "    <div class=\"colab-df-container\">\n",
              "      <div>\n",
              "<style scoped>\n",
              "    .dataframe tbody tr th:only-of-type {\n",
              "        vertical-align: middle;\n",
              "    }\n",
              "\n",
              "    .dataframe tbody tr th {\n",
              "        vertical-align: top;\n",
              "    }\n",
              "\n",
              "    .dataframe thead th {\n",
              "        text-align: right;\n",
              "    }\n",
              "</style>\n",
              "<table border=\"1\" class=\"dataframe\">\n",
              "  <thead>\n",
              "    <tr style=\"text-align: right;\">\n",
              "      <th></th>\n",
              "      <th>Class Index</th>\n",
              "      <th>Title</th>\n",
              "      <th>Description</th>\n",
              "    </tr>\n",
              "  </thead>\n",
              "  <tbody>\n",
              "    <tr>\n",
              "      <th>0</th>\n",
              "      <td>3</td>\n",
              "      <td>Wall St. Bears Claw Back Into the Black (Reuters)</td>\n",
              "      <td>Reuters - Short-sellers, Wall Street's dwindli...</td>\n",
              "    </tr>\n",
              "    <tr>\n",
              "      <th>1</th>\n",
              "      <td>3</td>\n",
              "      <td>Carlyle Looks Toward Commercial Aerospace (Reu...</td>\n",
              "      <td>Reuters - Private investment firm Carlyle Grou...</td>\n",
              "    </tr>\n",
              "    <tr>\n",
              "      <th>2</th>\n",
              "      <td>3</td>\n",
              "      <td>Oil and Economy Cloud Stocks' Outlook (Reuters)</td>\n",
              "      <td>Reuters - Soaring crude prices plus worries\\ab...</td>\n",
              "    </tr>\n",
              "  </tbody>\n",
              "</table>\n",
              "</div>\n",
              "      <button class=\"colab-df-convert\" onclick=\"convertToInteractive('df-fe4b0e54-cc37-4df8-bbc4-4d0a16cb558c')\"\n",
              "              title=\"Convert this dataframe to an interactive table.\"\n",
              "              style=\"display:none;\">\n",
              "        \n",
              "  <svg xmlns=\"http://www.w3.org/2000/svg\" height=\"24px\"viewBox=\"0 0 24 24\"\n",
              "       width=\"24px\">\n",
              "    <path d=\"M0 0h24v24H0V0z\" fill=\"none\"/>\n",
              "    <path d=\"M18.56 5.44l.94 2.06.94-2.06 2.06-.94-2.06-.94-.94-2.06-.94 2.06-2.06.94zm-11 1L8.5 8.5l.94-2.06 2.06-.94-2.06-.94L8.5 2.5l-.94 2.06-2.06.94zm10 10l.94 2.06.94-2.06 2.06-.94-2.06-.94-.94-2.06-.94 2.06-2.06.94z\"/><path d=\"M17.41 7.96l-1.37-1.37c-.4-.4-.92-.59-1.43-.59-.52 0-1.04.2-1.43.59L10.3 9.45l-7.72 7.72c-.78.78-.78 2.05 0 2.83L4 21.41c.39.39.9.59 1.41.59.51 0 1.02-.2 1.41-.59l7.78-7.78 2.81-2.81c.8-.78.8-2.07 0-2.86zM5.41 20L4 18.59l7.72-7.72 1.47 1.35L5.41 20z\"/>\n",
              "  </svg>\n",
              "      </button>\n",
              "      \n",
              "  <style>\n",
              "    .colab-df-container {\n",
              "      display:flex;\n",
              "      flex-wrap:wrap;\n",
              "      gap: 12px;\n",
              "    }\n",
              "\n",
              "    .colab-df-convert {\n",
              "      background-color: #E8F0FE;\n",
              "      border: none;\n",
              "      border-radius: 50%;\n",
              "      cursor: pointer;\n",
              "      display: none;\n",
              "      fill: #1967D2;\n",
              "      height: 32px;\n",
              "      padding: 0 0 0 0;\n",
              "      width: 32px;\n",
              "    }\n",
              "\n",
              "    .colab-df-convert:hover {\n",
              "      background-color: #E2EBFA;\n",
              "      box-shadow: 0px 1px 2px rgba(60, 64, 67, 0.3), 0px 1px 3px 1px rgba(60, 64, 67, 0.15);\n",
              "      fill: #174EA6;\n",
              "    }\n",
              "\n",
              "    [theme=dark] .colab-df-convert {\n",
              "      background-color: #3B4455;\n",
              "      fill: #D2E3FC;\n",
              "    }\n",
              "\n",
              "    [theme=dark] .colab-df-convert:hover {\n",
              "      background-color: #434B5C;\n",
              "      box-shadow: 0px 1px 3px 1px rgba(0, 0, 0, 0.15);\n",
              "      filter: drop-shadow(0px 1px 2px rgba(0, 0, 0, 0.3));\n",
              "      fill: #FFFFFF;\n",
              "    }\n",
              "  </style>\n",
              "\n",
              "      <script>\n",
              "        const buttonEl =\n",
              "          document.querySelector('#df-fe4b0e54-cc37-4df8-bbc4-4d0a16cb558c button.colab-df-convert');\n",
              "        buttonEl.style.display =\n",
              "          google.colab.kernel.accessAllowed ? 'block' : 'none';\n",
              "\n",
              "        async function convertToInteractive(key) {\n",
              "          const element = document.querySelector('#df-fe4b0e54-cc37-4df8-bbc4-4d0a16cb558c');\n",
              "          const dataTable =\n",
              "            await google.colab.kernel.invokeFunction('convertToInteractive',\n",
              "                                                     [key], {});\n",
              "          if (!dataTable) return;\n",
              "\n",
              "          const docLinkHtml = 'Like what you see? Visit the ' +\n",
              "            '<a target=\"_blank\" href=https://colab.research.google.com/notebooks/data_table.ipynb>data table notebook</a>'\n",
              "            + ' to learn more about interactive tables.';\n",
              "          element.innerHTML = '';\n",
              "          dataTable['output_type'] = 'display_data';\n",
              "          await google.colab.output.renderOutput(dataTable, element);\n",
              "          const docLink = document.createElement('div');\n",
              "          docLink.innerHTML = docLinkHtml;\n",
              "          element.appendChild(docLink);\n",
              "        }\n",
              "      </script>\n",
              "    </div>\n",
              "  </div>\n",
              "  "
            ]
          },
          "metadata": {},
          "execution_count": 82
        }
      ]
    },
    {
      "cell_type": "markdown",
      "source": [
        "# Предобработка текста"
      ],
      "metadata": {
        "id": "KzOVGL2HIZMS"
      }
    },
    {
      "cell_type": "code",
      "source": [
        "stopwords = stopwords.words('english')\n",
        "stopwords.append(\"'s\")"
      ],
      "metadata": {
        "id": "71ZjCqmsIVVJ"
      },
      "execution_count": null,
      "outputs": []
    },
    {
      "cell_type": "code",
      "source": [
        "nlp = spacy.load('en_core_web_sm')"
      ],
      "metadata": {
        "id": "HewsMU0kKvwZ"
      },
      "execution_count": null,
      "outputs": []
    },
    {
      "cell_type": "code",
      "source": [
        "def prepare_text(text):\n",
        "  tokens = nlp(text)\n",
        "  # tokens = [tok.lemma_.lower() for tok in tokens]\n",
        "  tokens = [tok.lemma_.lower() for tok in tokens if tok.lemma_ not in stopwords and tok.lemma_ not in string.punctuation]\n",
        "  return ' '.join(tokens)"
      ],
      "metadata": {
        "id": "wf7Nu06dIXYR"
      },
      "execution_count": null,
      "outputs": []
    },
    {
      "cell_type": "code",
      "source": [
        "df.Description[0]"
      ],
      "metadata": {
        "colab": {
          "base_uri": "https://localhost:8080/",
          "height": 35
        },
        "id": "uQ4J17fnM_LA",
        "outputId": "0f5f4091-f557-48b9-e69a-c145be4cf79d"
      },
      "execution_count": null,
      "outputs": [
        {
          "output_type": "execute_result",
          "data": {
            "text/plain": [
              "\"Reuters - Short-sellers, Wall Street's dwindling\\\\band of ultra-cynics, are seeing green again.\""
            ],
            "application/vnd.google.colaboratory.intrinsic+json": {
              "type": "string"
            }
          },
          "metadata": {},
          "execution_count": 84
        }
      ]
    },
    {
      "cell_type": "code",
      "source": [
        "prepare_text(df.Description[0])"
      ],
      "metadata": {
        "colab": {
          "base_uri": "https://localhost:8080/",
          "height": 35
        },
        "id": "sbw9hZSkMEkJ",
        "outputId": "54937266-16f4-4557-dd8c-8245a7ae736a"
      },
      "execution_count": null,
      "outputs": [
        {
          "output_type": "execute_result",
          "data": {
            "text/plain": [
              "'reuters short seller wall street dwindling\\\\band ultra cynic see green'"
            ],
            "application/vnd.google.colaboratory.intrinsic+json": {
              "type": "string"
            }
          },
          "metadata": {},
          "execution_count": 85
        }
      ]
    },
    {
      "cell_type": "code",
      "source": [
        "df['clean_text'] = df.Description.apply(prepare_text)\n",
        "df.head()"
      ],
      "metadata": {
        "colab": {
          "base_uri": "https://localhost:8080/",
          "height": 206
        },
        "id": "wRmTjd4gIbc5",
        "outputId": "ab8e57e8-caf2-41c3-8d3b-0f22c1fcf0c1"
      },
      "execution_count": null,
      "outputs": [
        {
          "output_type": "execute_result",
          "data": {
            "text/plain": [
              "   Class Index                                              Title  \\\n",
              "0            3  Wall St. Bears Claw Back Into the Black (Reuters)   \n",
              "1            3  Carlyle Looks Toward Commercial Aerospace (Reu...   \n",
              "2            3    Oil and Economy Cloud Stocks' Outlook (Reuters)   \n",
              "3            3  Iraq Halts Oil Exports from Main Southern Pipe...   \n",
              "4            3  Oil prices soar to all-time record, posing new...   \n",
              "\n",
              "                                         Description  \\\n",
              "0  Reuters - Short-sellers, Wall Street's dwindli...   \n",
              "1  Reuters - Private investment firm Carlyle Grou...   \n",
              "2  Reuters - Soaring crude prices plus worries\\ab...   \n",
              "3  Reuters - Authorities have halted oil export\\f...   \n",
              "4  AFP - Tearaway world oil prices, toppling reco...   \n",
              "\n",
              "                                          clean_text  \n",
              "0  reuters short seller wall street dwindling\\ban...  \n",
              "1  reuters private investment firm carlyle group,...  \n",
              "2  reuters soar crude price plus worries\\about ec...  \n",
              "3  reuters authorities halt oil export\\flow main ...  \n",
              "4  afp tearaway world oil price topple record str...  "
            ],
            "text/html": [
              "\n",
              "  <div id=\"df-6b7983f2-9680-4f88-bce1-43bef7fe22e7\">\n",
              "    <div class=\"colab-df-container\">\n",
              "      <div>\n",
              "<style scoped>\n",
              "    .dataframe tbody tr th:only-of-type {\n",
              "        vertical-align: middle;\n",
              "    }\n",
              "\n",
              "    .dataframe tbody tr th {\n",
              "        vertical-align: top;\n",
              "    }\n",
              "\n",
              "    .dataframe thead th {\n",
              "        text-align: right;\n",
              "    }\n",
              "</style>\n",
              "<table border=\"1\" class=\"dataframe\">\n",
              "  <thead>\n",
              "    <tr style=\"text-align: right;\">\n",
              "      <th></th>\n",
              "      <th>Class Index</th>\n",
              "      <th>Title</th>\n",
              "      <th>Description</th>\n",
              "      <th>clean_text</th>\n",
              "    </tr>\n",
              "  </thead>\n",
              "  <tbody>\n",
              "    <tr>\n",
              "      <th>0</th>\n",
              "      <td>3</td>\n",
              "      <td>Wall St. Bears Claw Back Into the Black (Reuters)</td>\n",
              "      <td>Reuters - Short-sellers, Wall Street's dwindli...</td>\n",
              "      <td>reuters short seller wall street dwindling\\ban...</td>\n",
              "    </tr>\n",
              "    <tr>\n",
              "      <th>1</th>\n",
              "      <td>3</td>\n",
              "      <td>Carlyle Looks Toward Commercial Aerospace (Reu...</td>\n",
              "      <td>Reuters - Private investment firm Carlyle Grou...</td>\n",
              "      <td>reuters private investment firm carlyle group,...</td>\n",
              "    </tr>\n",
              "    <tr>\n",
              "      <th>2</th>\n",
              "      <td>3</td>\n",
              "      <td>Oil and Economy Cloud Stocks' Outlook (Reuters)</td>\n",
              "      <td>Reuters - Soaring crude prices plus worries\\ab...</td>\n",
              "      <td>reuters soar crude price plus worries\\about ec...</td>\n",
              "    </tr>\n",
              "    <tr>\n",
              "      <th>3</th>\n",
              "      <td>3</td>\n",
              "      <td>Iraq Halts Oil Exports from Main Southern Pipe...</td>\n",
              "      <td>Reuters - Authorities have halted oil export\\f...</td>\n",
              "      <td>reuters authorities halt oil export\\flow main ...</td>\n",
              "    </tr>\n",
              "    <tr>\n",
              "      <th>4</th>\n",
              "      <td>3</td>\n",
              "      <td>Oil prices soar to all-time record, posing new...</td>\n",
              "      <td>AFP - Tearaway world oil prices, toppling reco...</td>\n",
              "      <td>afp tearaway world oil price topple record str...</td>\n",
              "    </tr>\n",
              "  </tbody>\n",
              "</table>\n",
              "</div>\n",
              "      <button class=\"colab-df-convert\" onclick=\"convertToInteractive('df-6b7983f2-9680-4f88-bce1-43bef7fe22e7')\"\n",
              "              title=\"Convert this dataframe to an interactive table.\"\n",
              "              style=\"display:none;\">\n",
              "        \n",
              "  <svg xmlns=\"http://www.w3.org/2000/svg\" height=\"24px\"viewBox=\"0 0 24 24\"\n",
              "       width=\"24px\">\n",
              "    <path d=\"M0 0h24v24H0V0z\" fill=\"none\"/>\n",
              "    <path d=\"M18.56 5.44l.94 2.06.94-2.06 2.06-.94-2.06-.94-.94-2.06-.94 2.06-2.06.94zm-11 1L8.5 8.5l.94-2.06 2.06-.94-2.06-.94L8.5 2.5l-.94 2.06-2.06.94zm10 10l.94 2.06.94-2.06 2.06-.94-2.06-.94-.94-2.06-.94 2.06-2.06.94z\"/><path d=\"M17.41 7.96l-1.37-1.37c-.4-.4-.92-.59-1.43-.59-.52 0-1.04.2-1.43.59L10.3 9.45l-7.72 7.72c-.78.78-.78 2.05 0 2.83L4 21.41c.39.39.9.59 1.41.59.51 0 1.02-.2 1.41-.59l7.78-7.78 2.81-2.81c.8-.78.8-2.07 0-2.86zM5.41 20L4 18.59l7.72-7.72 1.47 1.35L5.41 20z\"/>\n",
              "  </svg>\n",
              "      </button>\n",
              "      \n",
              "  <style>\n",
              "    .colab-df-container {\n",
              "      display:flex;\n",
              "      flex-wrap:wrap;\n",
              "      gap: 12px;\n",
              "    }\n",
              "\n",
              "    .colab-df-convert {\n",
              "      background-color: #E8F0FE;\n",
              "      border: none;\n",
              "      border-radius: 50%;\n",
              "      cursor: pointer;\n",
              "      display: none;\n",
              "      fill: #1967D2;\n",
              "      height: 32px;\n",
              "      padding: 0 0 0 0;\n",
              "      width: 32px;\n",
              "    }\n",
              "\n",
              "    .colab-df-convert:hover {\n",
              "      background-color: #E2EBFA;\n",
              "      box-shadow: 0px 1px 2px rgba(60, 64, 67, 0.3), 0px 1px 3px 1px rgba(60, 64, 67, 0.15);\n",
              "      fill: #174EA6;\n",
              "    }\n",
              "\n",
              "    [theme=dark] .colab-df-convert {\n",
              "      background-color: #3B4455;\n",
              "      fill: #D2E3FC;\n",
              "    }\n",
              "\n",
              "    [theme=dark] .colab-df-convert:hover {\n",
              "      background-color: #434B5C;\n",
              "      box-shadow: 0px 1px 3px 1px rgba(0, 0, 0, 0.15);\n",
              "      filter: drop-shadow(0px 1px 2px rgba(0, 0, 0, 0.3));\n",
              "      fill: #FFFFFF;\n",
              "    }\n",
              "  </style>\n",
              "\n",
              "      <script>\n",
              "        const buttonEl =\n",
              "          document.querySelector('#df-6b7983f2-9680-4f88-bce1-43bef7fe22e7 button.colab-df-convert');\n",
              "        buttonEl.style.display =\n",
              "          google.colab.kernel.accessAllowed ? 'block' : 'none';\n",
              "\n",
              "        async function convertToInteractive(key) {\n",
              "          const element = document.querySelector('#df-6b7983f2-9680-4f88-bce1-43bef7fe22e7');\n",
              "          const dataTable =\n",
              "            await google.colab.kernel.invokeFunction('convertToInteractive',\n",
              "                                                     [key], {});\n",
              "          if (!dataTable) return;\n",
              "\n",
              "          const docLinkHtml = 'Like what you see? Visit the ' +\n",
              "            '<a target=\"_blank\" href=https://colab.research.google.com/notebooks/data_table.ipynb>data table notebook</a>'\n",
              "            + ' to learn more about interactive tables.';\n",
              "          element.innerHTML = '';\n",
              "          dataTable['output_type'] = 'display_data';\n",
              "          await google.colab.output.renderOutput(dataTable, element);\n",
              "          const docLink = document.createElement('div');\n",
              "          docLink.innerHTML = docLinkHtml;\n",
              "          element.appendChild(docLink);\n",
              "        }\n",
              "      </script>\n",
              "    </div>\n",
              "  </div>\n",
              "  "
            ]
          },
          "metadata": {},
          "execution_count": 86
        }
      ]
    },
    {
      "cell_type": "code",
      "source": [
        "X_train, X_test, y_train, y_test = train_test_split(df.clean_text, df['Class Index'],\n",
        "                                                    shuffle=True, random_state=42)"
      ],
      "metadata": {
        "id": "LTSvXt2GPES6"
      },
      "execution_count": null,
      "outputs": []
    },
    {
      "cell_type": "code",
      "source": [
        "print(len(X_train))\n",
        "X_train.head()"
      ],
      "metadata": {
        "colab": {
          "base_uri": "https://localhost:8080/"
        },
        "id": "PDV89zfPBq3a",
        "outputId": "38cb7ab3-829c-4200-91fd-bfb4b1621212"
      },
      "execution_count": null,
      "outputs": [
        {
          "output_type": "stream",
          "name": "stdout",
          "text": [
            "90000\n"
          ]
        },
        {
          "output_type": "execute_result",
          "data": {
            "text/plain": [
              "84145    wind guste 30 mile hour ralph wilson stadium b...\n",
              "60838    indianapolis base drug manufacturer eli lilly ...\n",
              "99429    new measure fight crime drug expect heart quee...\n",
              "26258    new york public school child return class year...\n",
              "12165    ap timeline sexual assault case los angeles la...\n",
              "Name: clean_text, dtype: object"
            ]
          },
          "metadata": {},
          "execution_count": 90
        }
      ]
    },
    {
      "cell_type": "markdown",
      "source": [
        "# Supervised fastText"
      ],
      "metadata": {
        "id": "ETpqzZgDASzY"
      }
    },
    {
      "cell_type": "markdown",
      "source": [
        "## Стандартный пакет fastText"
      ],
      "metadata": {
        "id": "iTeycr2SArx4"
      }
    },
    {
      "cell_type": "code",
      "source": [
        "with open('train_data.txt', 'w', encoding='utf-8') as f:\n",
        "  for i in range(len(X_train)):\n",
        "    f.write('__label__' + str(y_train.values[i]) + ' ' + X_train.values[i] + '\\n')\n",
        "\n",
        "with open('test_data.txt', 'w', encoding='utf-8') as f:\n",
        "  for i in range(len(X_test)):\n",
        "    f.write('__label__' + str(y_test.values[i]) + ' ' + X_test.values[i] + '\\n')"
      ],
      "metadata": {
        "id": "1Ag9KrwcP-Jw"
      },
      "execution_count": null,
      "outputs": []
    },
    {
      "cell_type": "code",
      "source": [
        "model = fasttext.train_supervised(input='train_data.txt', epoch=50, wordNgrams=2,\n",
        "                                  lr=0.005)"
      ],
      "metadata": {
        "id": "ttvbaxqeQD3x"
      },
      "execution_count": null,
      "outputs": []
    },
    {
      "cell_type": "code",
      "source": [
        "result = model.test('test_data.txt')"
      ],
      "metadata": {
        "id": "65GR3FTkXkXq"
      },
      "execution_count": null,
      "outputs": []
    },
    {
      "cell_type": "code",
      "source": [
        "print('Test Accuracy:', result)"
      ],
      "metadata": {
        "colab": {
          "base_uri": "https://localhost:8080/"
        },
        "id": "AposVR7IXwso",
        "outputId": "df4a5f81-c44b-4611-e161-ec022e5bb505"
      },
      "execution_count": null,
      "outputs": [
        {
          "output_type": "stream",
          "name": "stdout",
          "text": [
            "Test Accuracy: (30000, 0.9055333333333333, 0.9055333333333333)\n"
          ]
        }
      ]
    },
    {
      "cell_type": "code",
      "source": [
        "model.predict(X_test.values[10])"
      ],
      "metadata": {
        "id": "UYU8aAWxX0rA",
        "colab": {
          "base_uri": "https://localhost:8080/"
        },
        "outputId": "a4ae25c9-5b6d-43bb-d3e9-976e4f3fe625"
      },
      "execution_count": null,
      "outputs": [
        {
          "output_type": "execute_result",
          "data": {
            "text/plain": [
              "(('__label__4',), array([0.92115545]))"
            ]
          },
          "metadata": {},
          "execution_count": 43
        }
      ]
    },
    {
      "cell_type": "code",
      "source": [
        "y_test.values[10]"
      ],
      "metadata": {
        "colab": {
          "base_uri": "https://localhost:8080/"
        },
        "id": "YbZg4irRcnzG",
        "outputId": "8dd2ca2f-b3d4-4a89-bfd1-20b7ab1143a0"
      },
      "execution_count": null,
      "outputs": [
        {
          "output_type": "execute_result",
          "data": {
            "text/plain": [
              "4"
            ]
          },
          "metadata": {},
          "execution_count": 44
        }
      ]
    },
    {
      "cell_type": "markdown",
      "source": [
        "## Модуль gensim fastText"
      ],
      "metadata": {
        "id": "8j8zQj5cIxcb"
      }
    },
    {
      "cell_type": "code",
      "source": [
        "clean_text_tokens = X_train.apply(lambda x: x.split(' '))"
      ],
      "metadata": {
        "id": "zGwjCCklFRmi"
      },
      "execution_count": null,
      "outputs": []
    },
    {
      "cell_type": "code",
      "source": [
        "model_gensim = FastText(clean_text_tokens, vector_size=100, window=5,\n",
        "                        min_count=5, workers=4)"
      ],
      "metadata": {
        "id": "haiPMmDgczLi"
      },
      "execution_count": null,
      "outputs": []
    },
    {
      "cell_type": "code",
      "source": [
        "model_gensim.train(corpus_iterable=clean_text_tokens, \n",
        "                   total_examples=len(clean_text_tokens), epochs=10)"
      ],
      "metadata": {
        "colab": {
          "base_uri": "https://localhost:8080/"
        },
        "id": "Yb7slzmtKM_o",
        "outputId": "14b30d4a-1e10-4783-b059-744ab6ddaa3c"
      },
      "execution_count": null,
      "outputs": [
        {
          "output_type": "stream",
          "name": "stderr",
          "text": [
            "WARNING:gensim.models.word2vec:Effective 'alpha' higher than previous training cycles\n"
          ]
        },
        {
          "output_type": "execute_result",
          "data": {
            "text/plain": [
              "(17861656, 19583510)"
            ]
          },
          "metadata": {},
          "execution_count": 147
        }
      ]
    },
    {
      "cell_type": "code",
      "source": [
        "model_gensim.wv['gastroenteritis']"
      ],
      "metadata": {
        "colab": {
          "base_uri": "https://localhost:8080/"
        },
        "id": "wAsHL89WD4PZ",
        "outputId": "f23a055e-b3cd-4148-de23-31783da06d0b"
      },
      "execution_count": null,
      "outputs": [
        {
          "output_type": "execute_result",
          "data": {
            "text/plain": [
              "array([-0.72896016,  0.07606808,  0.36694753, -0.07568449,  0.07119192,\n",
              "       -1.0664583 ,  0.378626  , -0.6597585 ,  1.0551571 , -0.21986134,\n",
              "        0.38397348, -0.5202483 , -0.03893563, -0.37454224, -0.30293787,\n",
              "        0.01861934, -0.32655925, -0.31563473,  0.04078551,  0.11752435,\n",
              "       -0.05610346, -0.2316435 , -0.4092508 ,  0.7134848 , -0.2200847 ,\n",
              "       -0.12685187,  1.2535815 ,  0.29173735,  0.73042035,  0.43831882,\n",
              "        0.3306061 , -0.6142112 ,  0.32873783, -0.039017  ,  0.04482775,\n",
              "        0.11474589, -0.21255836, -0.26040208, -0.19691506, -1.4328423 ,\n",
              "       -0.05345409,  1.1338176 ,  1.3801588 ,  0.47705725,  0.75716144,\n",
              "        0.3886566 ,  0.29731846, -0.38727447,  0.629503  ,  0.21525204,\n",
              "       -0.6172844 ,  0.49279812, -0.12916063,  0.624795  , -0.44863018,\n",
              "       -0.48579386,  0.2085447 , -0.28596294,  1.359474  ,  0.4554377 ,\n",
              "       -0.84833   ,  0.3223625 ,  0.5812951 , -0.31436485,  0.4969337 ,\n",
              "        0.67428404, -0.99212873, -0.3689961 ,  0.70073247, -0.25636762,\n",
              "       -0.24404512, -0.0113249 , -0.01196165,  0.0611491 , -0.37167245,\n",
              "        0.13175327,  0.68354833, -1.4109244 ,  0.7903961 , -0.7541627 ,\n",
              "        0.3983214 , -0.14392477,  0.11645263, -0.01810304,  0.5508814 ,\n",
              "       -0.08112883, -0.24398068,  0.5803167 ,  0.5406128 ,  0.24872643,\n",
              "       -0.81020933,  0.8643936 ,  0.14290412,  0.13521339,  0.53413844,\n",
              "        0.02569977,  0.67284745, -0.6972689 ,  0.03983633, -0.44668877],\n",
              "      dtype=float32)"
            ]
          },
          "metadata": {},
          "execution_count": 92
        }
      ]
    },
    {
      "cell_type": "code",
      "source": [
        "model_gensim.wv.most_similar('castle')"
      ],
      "metadata": {
        "colab": {
          "base_uri": "https://localhost:8080/"
        },
        "id": "U2N-lMfDElzC",
        "outputId": "cd201bc0-ecef-439d-ea7e-6044e8d7f2e5"
      },
      "execution_count": null,
      "outputs": [
        {
          "output_type": "execute_result",
          "data": {
            "text/plain": [
              "[('newcastle', 0.7588932514190674),\n",
              " ('nestle', 0.6795447468757629),\n",
              " ('winchester', 0.6432747840881348),\n",
              " ('hustle', 0.6301568746566772),\n",
              " ('manchester', 0.622786283493042),\n",
              " ('castillo', 0.604910671710968),\n",
              " ('rochester', 0.6043378710746765),\n",
              " ('chester', 0.5936146378517151),\n",
              " ('cast', 0.5867555141448975),\n",
              " ('castilla', 0.5698596239089966)]"
            ]
          },
          "metadata": {},
          "execution_count": 93
        }
      ]
    },
    {
      "cell_type": "markdown",
      "source": [
        "## Векторизация"
      ],
      "metadata": {
        "id": "RRMr0I_rGVWL"
      }
    },
    {
      "cell_type": "code",
      "source": [
        "def vectorize(text):\n",
        "    vectorized_text = np.array([model_gensim.wv[word] for word in text if word in model_gensim.wv])\n",
        "    if len(vectorized_text) == 0:\n",
        "        return np.zeros(100)\n",
        "    return vectorized_text.mean(axis=0)"
      ],
      "metadata": {
        "id": "uIJE15DoGubr"
      },
      "execution_count": null,
      "outputs": []
    },
    {
      "cell_type": "code",
      "source": [
        "X_train_vectorized = np.array([vectorize(sentence.split(' ')) for sentence in X_train])\n",
        "X_test_vectorized = np.array([vectorize(sentence.split(' ')) for sentence in X_test])"
      ],
      "metadata": {
        "id": "egeX1qBoG28H"
      },
      "execution_count": null,
      "outputs": []
    },
    {
      "cell_type": "code",
      "source": [
        "X_train_vectorized.shape"
      ],
      "metadata": {
        "colab": {
          "base_uri": "https://localhost:8080/"
        },
        "id": "P10PJ8dFHRR5",
        "outputId": "5cdbd144-05e2-4528-c4ad-3844f95b4862"
      },
      "execution_count": null,
      "outputs": [
        {
          "output_type": "execute_result",
          "data": {
            "text/plain": [
              "(90000, 100)"
            ]
          },
          "metadata": {},
          "execution_count": 152
        }
      ]
    },
    {
      "cell_type": "markdown",
      "source": [
        "## Классификация"
      ],
      "metadata": {
        "id": "nTs_r9vVHPb3"
      }
    },
    {
      "cell_type": "markdown",
      "source": [
        "### MultinomialNB"
      ],
      "metadata": {
        "id": "H04rU_jzjaqC"
      }
    },
    {
      "cell_type": "code",
      "source": [
        "scaler = MinMaxScaler()"
      ],
      "metadata": {
        "id": "d0dMvmSaIOwC"
      },
      "execution_count": null,
      "outputs": []
    },
    {
      "cell_type": "code",
      "source": [
        "X_train_scaled = scaler.fit_transform(X_train_vectorized)\n",
        "X_test_scaled = scaler.transform(X_test_vectorized)"
      ],
      "metadata": {
        "id": "BpGyBgjOIPg0"
      },
      "execution_count": null,
      "outputs": []
    },
    {
      "cell_type": "code",
      "source": [
        "clf_nb = MultinomialNB().fit(X_train_scaled, y_train)"
      ],
      "metadata": {
        "id": "m-8vk8caE2uK"
      },
      "execution_count": null,
      "outputs": []
    },
    {
      "cell_type": "code",
      "source": [
        "y_pred_nb = clf_nb.predict(X_test_scaled)"
      ],
      "metadata": {
        "id": "9lMWkVLCILuO"
      },
      "execution_count": null,
      "outputs": []
    },
    {
      "cell_type": "code",
      "source": [
        "acc_score = clf_nb.score(X_test_scaled, y_test) * 100\n",
        "print(f'Accuracy: {acc_score}%')"
      ],
      "metadata": {
        "colab": {
          "base_uri": "https://localhost:8080/"
        },
        "id": "vEF3koGoIaXG",
        "outputId": "00fd7965-85e4-4b5a-d2a3-a8a241d58bc3"
      },
      "execution_count": null,
      "outputs": [
        {
          "output_type": "stream",
          "name": "stdout",
          "text": [
            "Accuracy: 72.83666666666667%\n"
          ]
        }
      ]
    },
    {
      "cell_type": "markdown",
      "source": [
        "### KNN"
      ],
      "metadata": {
        "id": "wYcnVY9xjdn4"
      }
    },
    {
      "cell_type": "code",
      "source": [
        "clf_knn = KNeighborsClassifier(n_neighbors=15).fit(X_train_scaled, y_train)\n",
        "y_pred_knn = clf_knn.predict(X_test_scaled)\n",
        "acc_score = clf_knn.score(X_test_scaled, y_test) * 100\n",
        "print(f'Accuracy: {acc_score}%')"
      ],
      "metadata": {
        "colab": {
          "base_uri": "https://localhost:8080/"
        },
        "id": "NFs4wZYHjZxQ",
        "outputId": "cb0e7d03-fc2c-4c19-f122-02bba41f8d62"
      },
      "execution_count": null,
      "outputs": [
        {
          "output_type": "stream",
          "name": "stdout",
          "text": [
            "Accuracy: 87.58%\n"
          ]
        }
      ]
    },
    {
      "cell_type": "markdown",
      "source": [
        "# Unsupervised fastText"
      ],
      "metadata": {
        "id": "PiscQdfcA1Wg"
      }
    },
    {
      "cell_type": "code",
      "source": [
        "values = X_train.values\n",
        "print(len(values))\n",
        "print(values[:3])"
      ],
      "metadata": {
        "colab": {
          "base_uri": "https://localhost:8080/"
        },
        "id": "Kkmthm2PCIdn",
        "outputId": "317ab646-6cf6-47d4-89fc-49efc3a8ad08"
      },
      "execution_count": null,
      "outputs": [
        {
          "output_type": "stream",
          "name": "stdout",
          "text": [
            "90000\n",
            "['wind guste 30 mile hour ralph wilson stadium buffalo bills 12 yard jet 39 end zone sunday willis mcgahee take handoff cradle ball pause'\n",
            " 'indianapolis base drug manufacturer eli lilly eliminate 575 us job order streamline operation become competitive'\n",
            " 'new measure fight crime drug expect heart queen speech tuesday']\n"
          ]
        }
      ]
    },
    {
      "cell_type": "code",
      "source": [
        "values = X_train.values\n",
        "with open('train_data_unsupervised.txt', 'w', encoding='utf-8') as f:\n",
        "  for i in range(len(X_train)):\n",
        "    f.write(values[i] + '\\n')"
      ],
      "metadata": {
        "id": "UFHvL_ZmBZ2X"
      },
      "execution_count": null,
      "outputs": []
    },
    {
      "cell_type": "code",
      "source": [
        "unsupervised_model = fasttext.train_unsupervised('train_data_unsupervised.txt')"
      ],
      "metadata": {
        "id": "1g4MDeB7A9hT"
      },
      "execution_count": null,
      "outputs": []
    },
    {
      "cell_type": "code",
      "source": [
        "unsupervised_model.words[:10]"
      ],
      "metadata": {
        "colab": {
          "base_uri": "https://localhost:8080/"
        },
        "id": "huVU-N09CdcA",
        "outputId": "994ba56d-494f-4109-f707-ef99489aef06"
      },
      "execution_count": null,
      "outputs": [
        {
          "output_type": "execute_result",
          "data": {
            "text/plain": [
              "['</s>',\n",
              " 'say',\n",
              " '39;s',\n",
              " 'new',\n",
              " 'year',\n",
              " 'reuters',\n",
              " 'company',\n",
              " 'two',\n",
              " 'us',\n",
              " 'first']"
            ]
          },
          "metadata": {},
          "execution_count": 94
        }
      ]
    },
    {
      "cell_type": "code",
      "source": [
        "unsupervised_model.save_model('/content/gdrive/MyDrive/Practice Files/fasttest_unsuper_model.bin')"
      ],
      "metadata": {
        "id": "GnmqdkI3eDlg"
      },
      "execution_count": null,
      "outputs": []
    },
    {
      "cell_type": "code",
      "source": [
        "unsupervised_model.get_word_vector('new')"
      ],
      "metadata": {
        "colab": {
          "base_uri": "https://localhost:8080/"
        },
        "id": "50L-EmeWDsa3",
        "outputId": "9c48bc8f-2c84-4e3b-9329-a348181f0b72"
      },
      "execution_count": null,
      "outputs": [
        {
          "output_type": "execute_result",
          "data": {
            "text/plain": [
              "array([ 0.41860446,  0.5429493 , -0.150806  ,  0.21164289, -0.11484031,\n",
              "        0.04691456, -0.2376853 , -0.24291867,  0.35181773,  0.05803493,\n",
              "       -0.19746974,  0.33210647,  0.01873512,  0.08071205, -0.16062137,\n",
              "        0.02923411, -0.06773145, -0.15076815,  0.40037006, -0.22786367,\n",
              "        0.00284972,  0.13263685,  0.06684748, -0.15789425, -0.05485745,\n",
              "        0.11893925,  0.3933481 ,  0.14423129, -0.40279076,  0.0138737 ,\n",
              "        0.1411315 ,  0.2955142 , -0.1177451 ,  0.39018166, -0.1394085 ,\n",
              "        0.49968675,  0.26523826, -0.12493184, -0.16680555,  0.16615224,\n",
              "        0.2198517 ,  0.21780245,  0.12479654, -0.4615382 , -0.00142735,\n",
              "       -0.3198429 , -0.3535077 , -0.03248538, -0.00994665, -0.33196074,\n",
              "       -0.65212524, -0.32932144, -0.48759693, -0.02870524,  0.01618671,\n",
              "       -0.36995843, -0.5219891 ,  0.63803524, -0.19380373, -0.30119488,\n",
              "       -0.2904145 , -0.11124222,  0.15213613, -0.05127013, -0.3265048 ,\n",
              "        0.07221315,  0.05076874,  0.22602995,  0.07239656,  0.21971205,\n",
              "        0.14319059, -0.01745754,  0.3045342 ,  0.06146488, -0.19634023,\n",
              "        0.03346138,  0.09704519, -0.13620515,  0.4155083 , -0.09885267,\n",
              "        0.01988424,  0.16404706,  0.271335  ,  0.10420173,  0.45915967,\n",
              "       -0.1684691 ,  0.5067858 ,  0.08567976, -0.23118652, -0.02114731,\n",
              "        0.45025694,  0.18134771,  0.34435335,  0.20961854, -0.02719186,\n",
              "       -0.3936564 ,  0.14476939, -0.01947404, -0.0770576 ,  0.14729486],\n",
              "      dtype=float32)"
            ]
          },
          "metadata": {},
          "execution_count": 95
        }
      ]
    },
    {
      "cell_type": "code",
      "source": [
        "unsupervised_model.get_nearest_neighbors('robot')"
      ],
      "metadata": {
        "colab": {
          "base_uri": "https://localhost:8080/"
        },
        "id": "mZGqLLKHFpCR",
        "outputId": "df59621e-afbf-4b92-d0bd-5907a12ef418"
      },
      "execution_count": null,
      "outputs": [
        {
          "output_type": "execute_result",
          "data": {
            "text/plain": [
              "[(0.8797124624252319, 'robotic'),\n",
              " (0.7036039233207703, 'telescope'),\n",
              " (0.6822026968002319, 'hubble'),\n",
              " (0.6722701191902161, 'rover'),\n",
              " (0.6636658310890198, 'jupiter'),\n",
              " (0.6599425673484802, 'voyager'),\n",
              " (0.6533786058425903, 'orbiter'),\n",
              " (0.6456658840179443, 'odyssey'),\n",
              " (0.6392567157745361, 'flyer'),\n",
              " (0.6370058655738831, 'mars')]"
            ]
          },
          "metadata": {},
          "execution_count": 103
        }
      ]
    },
    {
      "cell_type": "code",
      "source": [
        "unsupervised_model.get_nearest_neighbors('enviroment')"
      ],
      "metadata": {
        "colab": {
          "base_uri": "https://localhost:8080/"
        },
        "id": "Ysnfo3ZSF_uy",
        "outputId": "2040cf75-c0ac-4a8c-f717-05602b703b49"
      },
      "execution_count": null,
      "outputs": [
        {
          "output_type": "execute_result",
          "data": {
            "text/plain": [
              "[(0.9230517148971558, 'environment'),\n",
              " (0.8595098853111267, 'environmentally'),\n",
              " (0.8267915844917297, 'environmental'),\n",
              " (0.8260120749473572, 'environmentalists'),\n",
              " (0.8214402794837952, 'environmentalist'),\n",
              " (0.7405422925949097, 'beehive'),\n",
              " (0.7328943014144897, 'wwf'),\n",
              " (0.6928366422653198, 'ecosystem'),\n",
              " (0.6826496124267578, 'autonomic'),\n",
              " (0.6825185418128967, 'therefore')]"
            ]
          },
          "metadata": {},
          "execution_count": 104
        }
      ]
    },
    {
      "cell_type": "code",
      "source": [
        "unsupervised_model.get_analogies('paris', 'france', 'moscow')"
      ],
      "metadata": {
        "colab": {
          "base_uri": "https://localhost:8080/"
        },
        "id": "2s6qADhbcEUj",
        "outputId": "3f82215d-fa73-4525-e1b5-e6f69f76c265"
      },
      "execution_count": null,
      "outputs": [
        {
          "output_type": "execute_result",
          "data": {
            "text/plain": [
              "[(0.6149189472198486, 'russian'),\n",
              " (0.5823895931243896, 'russias'),\n",
              " (0.5645284056663513, 'russia'),\n",
              " (0.5602371096611023, 'russians'),\n",
              " (0.526540994644165, 'belarussian'),\n",
              " (0.5101833939552307, 'u.s.-russian'),\n",
              " (0.5070475339889526, 'chechens'),\n",
              " (0.5042608976364136, 'borussia'),\n",
              " (0.49830353260040283, 'chechen'),\n",
              " (0.48981741070747375, 'vladimir')]"
            ]
          },
          "metadata": {},
          "execution_count": 107
        }
      ]
    },
    {
      "cell_type": "code",
      "source": [
        "def unsupervised_vectorize(text):\n",
        "  vectorized_text = np.array([unsupervised_model.get_word_vector(word) for word in text])\n",
        "  print(vectorized_text)\n",
        "  print(vectorized_text.shape)\n",
        "\n",
        "  if len(vectorized_text) == 0:\n",
        "    return np.zeros(100)\n",
        "\n",
        "  return vectorized_text.mean(axis=0)"
      ],
      "metadata": {
        "id": "CfP9ERXudTuY"
      },
      "execution_count": null,
      "outputs": []
    },
    {
      "cell_type": "code",
      "source": [
        "# unsupervised_vectorize(X_train.iloc[0].split(' '))"
      ],
      "metadata": {
        "id": "btoZrbkEgWo4"
      },
      "execution_count": null,
      "outputs": []
    },
    {
      "cell_type": "code",
      "source": [
        "X_train_unsupervised = np.array([unsupervised_vectorize(sentence.split(' ')) for sentence in X_train])\n",
        "X_test_unsupervised = np.array([unsupervised_vectorize(sentence.split(' ')) for sentence in X_test])"
      ],
      "metadata": {
        "id": "TqIVi-Rjem2U"
      },
      "execution_count": null,
      "outputs": []
    },
    {
      "cell_type": "code",
      "source": [
        "# print(X_train.iloc[0])\n",
        "# print(len(X_train.iloc[0].split(' ')))\n",
        "# print(X_train_unsupervised[0])\n",
        "# print(len(X_train_unsupervised[0]))"
      ],
      "metadata": {
        "id": "yfqW1f3af4lw"
      },
      "execution_count": null,
      "outputs": []
    },
    {
      "cell_type": "markdown",
      "source": [
        "## Классификация"
      ],
      "metadata": {
        "id": "eLOuqN86gplQ"
      }
    },
    {
      "cell_type": "markdown",
      "source": [
        "### MultinomialNB"
      ],
      "metadata": {
        "id": "9KujFBv7ieCj"
      }
    },
    {
      "cell_type": "code",
      "source": [
        "scaler = MinMaxScaler()"
      ],
      "metadata": {
        "id": "QdeqFlnrfMox"
      },
      "execution_count": null,
      "outputs": []
    },
    {
      "cell_type": "code",
      "source": [
        "X_train_scaled = scaler.fit_transform(X_train_unsupervised)\n",
        "X_test_scaled = scaler.transform(X_test_unsupervised)"
      ],
      "metadata": {
        "id": "plP6jf_xgxti"
      },
      "execution_count": null,
      "outputs": []
    },
    {
      "cell_type": "code",
      "source": [
        "clf_nb = MultinomialNB().fit(X_train_scaled, y_train)"
      ],
      "metadata": {
        "id": "uGkRhs21gynA"
      },
      "execution_count": null,
      "outputs": []
    },
    {
      "cell_type": "code",
      "source": [
        "y_pred_nb = clf_nb.predict(X_test_scaled)"
      ],
      "metadata": {
        "id": "AP77da3agzYy"
      },
      "execution_count": null,
      "outputs": []
    },
    {
      "cell_type": "code",
      "source": [
        "acc_score = clf_nb.score(X_test_scaled, y_test) * 100\n",
        "print(f'Accuracy: {acc_score}%')"
      ],
      "metadata": {
        "colab": {
          "base_uri": "https://localhost:8080/"
        },
        "id": "2N3MX19Mg01q",
        "outputId": "7ae1d86b-c8b0-4f37-ead5-e46390734814"
      },
      "execution_count": null,
      "outputs": [
        {
          "output_type": "stream",
          "name": "stdout",
          "text": [
            "Accuracy: 85.49%\n"
          ]
        }
      ]
    },
    {
      "cell_type": "markdown",
      "source": [
        "### KNN"
      ],
      "metadata": {
        "id": "200VPbj9ihCw"
      }
    },
    {
      "cell_type": "code",
      "source": [
        "clf_knn = KNeighborsClassifier(n_neighbors=22).fit(X_train_scaled, y_train)"
      ],
      "metadata": {
        "id": "THuReFlag7ID"
      },
      "execution_count": null,
      "outputs": []
    },
    {
      "cell_type": "code",
      "source": [
        "y_pred_knn = clf_knn.predict(X_test_scaled)"
      ],
      "metadata": {
        "id": "A6mFQs71hgDg"
      },
      "execution_count": null,
      "outputs": []
    },
    {
      "cell_type": "code",
      "source": [
        "acc_score = clf_knn.score(X_test_scaled, y_test) * 100\n",
        "print(f'Accuracy: {acc_score}%')"
      ],
      "metadata": {
        "colab": {
          "base_uri": "https://localhost:8080/"
        },
        "id": "CCUpSCwLhmSR",
        "outputId": "7631961a-99f7-40c1-c3d5-8fc6861f806d"
      },
      "execution_count": null,
      "outputs": [
        {
          "output_type": "stream",
          "name": "stdout",
          "text": [
            "Accuracy: 90.01333333333334%\n"
          ]
        }
      ]
    },
    {
      "cell_type": "code",
      "source": [
        "from sklearn.model_selection import GridSearchCV\n",
        "\n",
        "grid_search = GridSearchCV(KNeighborsClassifier(),\n",
        "                           {\n",
        "                              'n_neighbors':np.arange(22, 30),\n",
        "                            }, \n",
        "                           cv=5, scoring=\"accuracy\",verbose=1,n_jobs=-1\n",
        "                           )\n",
        "\n",
        "grid_search.fit(X_train_scaled, y_train)"
      ],
      "metadata": {
        "colab": {
          "base_uri": "https://localhost:8080/",
          "height": 135
        },
        "id": "PnNXFsdqiLr2",
        "outputId": "5e70b6ae-085e-4919-c46e-ff284db37242"
      },
      "execution_count": null,
      "outputs": [
        {
          "output_type": "stream",
          "name": "stdout",
          "text": [
            "Fitting 5 folds for each of 8 candidates, totalling 40 fits\n"
          ]
        },
        {
          "output_type": "execute_result",
          "data": {
            "text/plain": [
              "GridSearchCV(cv=5, estimator=KNeighborsClassifier(), n_jobs=-1,\n",
              "             param_grid={'n_neighbors': array([22, 23, 24, 25, 26, 27, 28, 29])},\n",
              "             scoring='accuracy', verbose=1)"
            ],
            "text/html": [
              "<style>#sk-container-id-3 {color: black;background-color: white;}#sk-container-id-3 pre{padding: 0;}#sk-container-id-3 div.sk-toggleable {background-color: white;}#sk-container-id-3 label.sk-toggleable__label {cursor: pointer;display: block;width: 100%;margin-bottom: 0;padding: 0.3em;box-sizing: border-box;text-align: center;}#sk-container-id-3 label.sk-toggleable__label-arrow:before {content: \"▸\";float: left;margin-right: 0.25em;color: #696969;}#sk-container-id-3 label.sk-toggleable__label-arrow:hover:before {color: black;}#sk-container-id-3 div.sk-estimator:hover label.sk-toggleable__label-arrow:before {color: black;}#sk-container-id-3 div.sk-toggleable__content {max-height: 0;max-width: 0;overflow: hidden;text-align: left;background-color: #f0f8ff;}#sk-container-id-3 div.sk-toggleable__content pre {margin: 0.2em;color: black;border-radius: 0.25em;background-color: #f0f8ff;}#sk-container-id-3 input.sk-toggleable__control:checked~div.sk-toggleable__content {max-height: 200px;max-width: 100%;overflow: auto;}#sk-container-id-3 input.sk-toggleable__control:checked~label.sk-toggleable__label-arrow:before {content: \"▾\";}#sk-container-id-3 div.sk-estimator input.sk-toggleable__control:checked~label.sk-toggleable__label {background-color: #d4ebff;}#sk-container-id-3 div.sk-label input.sk-toggleable__control:checked~label.sk-toggleable__label {background-color: #d4ebff;}#sk-container-id-3 input.sk-hidden--visually {border: 0;clip: rect(1px 1px 1px 1px);clip: rect(1px, 1px, 1px, 1px);height: 1px;margin: -1px;overflow: hidden;padding: 0;position: absolute;width: 1px;}#sk-container-id-3 div.sk-estimator {font-family: monospace;background-color: #f0f8ff;border: 1px dotted black;border-radius: 0.25em;box-sizing: border-box;margin-bottom: 0.5em;}#sk-container-id-3 div.sk-estimator:hover {background-color: #d4ebff;}#sk-container-id-3 div.sk-parallel-item::after {content: \"\";width: 100%;border-bottom: 1px solid gray;flex-grow: 1;}#sk-container-id-3 div.sk-label:hover label.sk-toggleable__label {background-color: #d4ebff;}#sk-container-id-3 div.sk-serial::before {content: \"\";position: absolute;border-left: 1px solid gray;box-sizing: border-box;top: 0;bottom: 0;left: 50%;z-index: 0;}#sk-container-id-3 div.sk-serial {display: flex;flex-direction: column;align-items: center;background-color: white;padding-right: 0.2em;padding-left: 0.2em;position: relative;}#sk-container-id-3 div.sk-item {position: relative;z-index: 1;}#sk-container-id-3 div.sk-parallel {display: flex;align-items: stretch;justify-content: center;background-color: white;position: relative;}#sk-container-id-3 div.sk-item::before, #sk-container-id-3 div.sk-parallel-item::before {content: \"\";position: absolute;border-left: 1px solid gray;box-sizing: border-box;top: 0;bottom: 0;left: 50%;z-index: -1;}#sk-container-id-3 div.sk-parallel-item {display: flex;flex-direction: column;z-index: 1;position: relative;background-color: white;}#sk-container-id-3 div.sk-parallel-item:first-child::after {align-self: flex-end;width: 50%;}#sk-container-id-3 div.sk-parallel-item:last-child::after {align-self: flex-start;width: 50%;}#sk-container-id-3 div.sk-parallel-item:only-child::after {width: 0;}#sk-container-id-3 div.sk-dashed-wrapped {border: 1px dashed gray;margin: 0 0.4em 0.5em 0.4em;box-sizing: border-box;padding-bottom: 0.4em;background-color: white;}#sk-container-id-3 div.sk-label label {font-family: monospace;font-weight: bold;display: inline-block;line-height: 1.2em;}#sk-container-id-3 div.sk-label-container {text-align: center;}#sk-container-id-3 div.sk-container {/* jupyter's `normalize.less` sets `[hidden] { display: none; }` but bootstrap.min.css set `[hidden] { display: none !important; }` so we also need the `!important` here to be able to override the default hidden behavior on the sphinx rendered scikit-learn.org. See: https://github.com/scikit-learn/scikit-learn/issues/21755 */display: inline-block !important;position: relative;}#sk-container-id-3 div.sk-text-repr-fallback {display: none;}</style><div id=\"sk-container-id-3\" class=\"sk-top-container\"><div class=\"sk-text-repr-fallback\"><pre>GridSearchCV(cv=5, estimator=KNeighborsClassifier(), n_jobs=-1,\n",
              "             param_grid={&#x27;n_neighbors&#x27;: array([22, 23, 24, 25, 26, 27, 28, 29])},\n",
              "             scoring=&#x27;accuracy&#x27;, verbose=1)</pre><b>In a Jupyter environment, please rerun this cell to show the HTML representation or trust the notebook. <br />On GitHub, the HTML representation is unable to render, please try loading this page with nbviewer.org.</b></div><div class=\"sk-container\" hidden><div class=\"sk-item sk-dashed-wrapped\"><div class=\"sk-label-container\"><div class=\"sk-label sk-toggleable\"><input class=\"sk-toggleable__control sk-hidden--visually\" id=\"sk-estimator-id-7\" type=\"checkbox\" ><label for=\"sk-estimator-id-7\" class=\"sk-toggleable__label sk-toggleable__label-arrow\">GridSearchCV</label><div class=\"sk-toggleable__content\"><pre>GridSearchCV(cv=5, estimator=KNeighborsClassifier(), n_jobs=-1,\n",
              "             param_grid={&#x27;n_neighbors&#x27;: array([22, 23, 24, 25, 26, 27, 28, 29])},\n",
              "             scoring=&#x27;accuracy&#x27;, verbose=1)</pre></div></div></div><div class=\"sk-parallel\"><div class=\"sk-parallel-item\"><div class=\"sk-item\"><div class=\"sk-label-container\"><div class=\"sk-label sk-toggleable\"><input class=\"sk-toggleable__control sk-hidden--visually\" id=\"sk-estimator-id-8\" type=\"checkbox\" ><label for=\"sk-estimator-id-8\" class=\"sk-toggleable__label sk-toggleable__label-arrow\">estimator: KNeighborsClassifier</label><div class=\"sk-toggleable__content\"><pre>KNeighborsClassifier()</pre></div></div></div><div class=\"sk-serial\"><div class=\"sk-item\"><div class=\"sk-estimator sk-toggleable\"><input class=\"sk-toggleable__control sk-hidden--visually\" id=\"sk-estimator-id-9\" type=\"checkbox\" ><label for=\"sk-estimator-id-9\" class=\"sk-toggleable__label sk-toggleable__label-arrow\">KNeighborsClassifier</label><div class=\"sk-toggleable__content\"><pre>KNeighborsClassifier()</pre></div></div></div></div></div></div></div></div></div></div>"
            ]
          },
          "metadata": {},
          "execution_count": 174
        }
      ]
    },
    {
      "cell_type": "code",
      "source": [
        "grid_search.best_params_"
      ],
      "metadata": {
        "colab": {
          "base_uri": "https://localhost:8080/"
        },
        "id": "8q7Q2DyBkLNg",
        "outputId": "b5372fae-eeaa-450b-f88a-e2ac266a6615"
      },
      "execution_count": null,
      "outputs": [
        {
          "output_type": "execute_result",
          "data": {
            "text/plain": [
              "{'n_neighbors': 22}"
            ]
          },
          "metadata": {},
          "execution_count": 175
        }
      ]
    },
    {
      "cell_type": "code",
      "source": [],
      "metadata": {
        "id": "tmPOUrrLkVoJ"
      },
      "execution_count": null,
      "outputs": []
    }
  ]
}