{
  "cells": [
    {
      "cell_type": "markdown",
      "metadata": {
        "id": "view-in-github",
        "colab_type": "text"
      },
      "source": [
        "<a href=\"https://colab.research.google.com/github/Tensai-Pro/SRI-PracticeTasks/blob/master/Word%20Embeddings/2)%20Word2Vec.ipynb\" target=\"_parent\"><img src=\"https://colab.research.google.com/assets/colab-badge.svg\" alt=\"Open In Colab\"/></a>"
      ]
    },
    {
      "cell_type": "code",
      "execution_count": null,
      "metadata": {
        "colab": {
          "base_uri": "https://localhost:8080/"
        },
        "id": "bgMKZfFYGfoH",
        "outputId": "dcefa95a-2202-4838-c4f3-ca6bebb3dabf"
      },
      "outputs": [
        {
          "output_type": "stream",
          "name": "stderr",
          "text": [
            "[nltk_data] Downloading package stopwords to /root/nltk_data...\n",
            "[nltk_data]   Package stopwords is already up-to-date!\n"
          ]
        }
      ],
      "source": [
        "import pandas as pd\n",
        "import numpy as np\n",
        "\n",
        "from gensim.utils import simple_preprocess\n",
        "from gensim.models import Word2Vec\n",
        "\n",
        "import nltk;\n",
        "nltk.download('stopwords');\n",
        "from nltk.corpus import stopwords;\n",
        "from nltk.stem.snowball import SnowballStemmer\n",
        "\n",
        "from sklearn.model_selection import train_test_split\n",
        "from sklearn.preprocessing import MinMaxScaler\n",
        "from sklearn.metrics import confusion_matrix, ConfusionMatrixDisplay\n",
        "from sklearn.naive_bayes import MultinomialNB\n",
        "from sklearn.svm import SVC\n",
        "from sklearn.neighbors import KNeighborsClassifier"
      ]
    },
    {
      "cell_type": "code",
      "execution_count": null,
      "metadata": {
        "colab": {
          "base_uri": "https://localhost:8080/"
        },
        "id": "ym2s3r0dGkiW",
        "outputId": "5e7d0a0d-f61e-4778-ad2f-edf123754f87"
      },
      "outputs": [
        {
          "output_type": "stream",
          "name": "stdout",
          "text": [
            "Drive already mounted at /content/gdrive; to attempt to forcibly remount, call drive.mount(\"/content/gdrive\", force_remount=True).\n"
          ]
        }
      ],
      "source": [
        "from google.colab import drive\n",
        "drive.mount('/content/gdrive')"
      ]
    },
    {
      "cell_type": "code",
      "execution_count": null,
      "metadata": {
        "colab": {
          "base_uri": "https://localhost:8080/",
          "height": 143
        },
        "id": "yTB8dJkPHC1O",
        "outputId": "bcef9735-273c-4f88-ada6-41e75324435c"
      },
      "outputs": [
        {
          "output_type": "execute_result",
          "data": {
            "text/plain": [
              "   Class Index                                              Title  \\\n",
              "0            3  Wall St. Bears Claw Back Into the Black (Reuters)   \n",
              "1            3  Carlyle Looks Toward Commercial Aerospace (Reu...   \n",
              "2            3    Oil and Economy Cloud Stocks' Outlook (Reuters)   \n",
              "\n",
              "                                         Description  \n",
              "0  Reuters - Short-sellers, Wall Street's dwindli...  \n",
              "1  Reuters - Private investment firm Carlyle Grou...  \n",
              "2  Reuters - Soaring crude prices plus worries\\ab...  "
            ],
            "text/html": [
              "\n",
              "  <div id=\"df-ae5d8862-3d95-4426-a80b-bca56337486d\">\n",
              "    <div class=\"colab-df-container\">\n",
              "      <div>\n",
              "<style scoped>\n",
              "    .dataframe tbody tr th:only-of-type {\n",
              "        vertical-align: middle;\n",
              "    }\n",
              "\n",
              "    .dataframe tbody tr th {\n",
              "        vertical-align: top;\n",
              "    }\n",
              "\n",
              "    .dataframe thead th {\n",
              "        text-align: right;\n",
              "    }\n",
              "</style>\n",
              "<table border=\"1\" class=\"dataframe\">\n",
              "  <thead>\n",
              "    <tr style=\"text-align: right;\">\n",
              "      <th></th>\n",
              "      <th>Class Index</th>\n",
              "      <th>Title</th>\n",
              "      <th>Description</th>\n",
              "    </tr>\n",
              "  </thead>\n",
              "  <tbody>\n",
              "    <tr>\n",
              "      <th>0</th>\n",
              "      <td>3</td>\n",
              "      <td>Wall St. Bears Claw Back Into the Black (Reuters)</td>\n",
              "      <td>Reuters - Short-sellers, Wall Street's dwindli...</td>\n",
              "    </tr>\n",
              "    <tr>\n",
              "      <th>1</th>\n",
              "      <td>3</td>\n",
              "      <td>Carlyle Looks Toward Commercial Aerospace (Reu...</td>\n",
              "      <td>Reuters - Private investment firm Carlyle Grou...</td>\n",
              "    </tr>\n",
              "    <tr>\n",
              "      <th>2</th>\n",
              "      <td>3</td>\n",
              "      <td>Oil and Economy Cloud Stocks' Outlook (Reuters)</td>\n",
              "      <td>Reuters - Soaring crude prices plus worries\\ab...</td>\n",
              "    </tr>\n",
              "  </tbody>\n",
              "</table>\n",
              "</div>\n",
              "      <button class=\"colab-df-convert\" onclick=\"convertToInteractive('df-ae5d8862-3d95-4426-a80b-bca56337486d')\"\n",
              "              title=\"Convert this dataframe to an interactive table.\"\n",
              "              style=\"display:none;\">\n",
              "        \n",
              "  <svg xmlns=\"http://www.w3.org/2000/svg\" height=\"24px\"viewBox=\"0 0 24 24\"\n",
              "       width=\"24px\">\n",
              "    <path d=\"M0 0h24v24H0V0z\" fill=\"none\"/>\n",
              "    <path d=\"M18.56 5.44l.94 2.06.94-2.06 2.06-.94-2.06-.94-.94-2.06-.94 2.06-2.06.94zm-11 1L8.5 8.5l.94-2.06 2.06-.94-2.06-.94L8.5 2.5l-.94 2.06-2.06.94zm10 10l.94 2.06.94-2.06 2.06-.94-2.06-.94-.94-2.06-.94 2.06-2.06.94z\"/><path d=\"M17.41 7.96l-1.37-1.37c-.4-.4-.92-.59-1.43-.59-.52 0-1.04.2-1.43.59L10.3 9.45l-7.72 7.72c-.78.78-.78 2.05 0 2.83L4 21.41c.39.39.9.59 1.41.59.51 0 1.02-.2 1.41-.59l7.78-7.78 2.81-2.81c.8-.78.8-2.07 0-2.86zM5.41 20L4 18.59l7.72-7.72 1.47 1.35L5.41 20z\"/>\n",
              "  </svg>\n",
              "      </button>\n",
              "      \n",
              "  <style>\n",
              "    .colab-df-container {\n",
              "      display:flex;\n",
              "      flex-wrap:wrap;\n",
              "      gap: 12px;\n",
              "    }\n",
              "\n",
              "    .colab-df-convert {\n",
              "      background-color: #E8F0FE;\n",
              "      border: none;\n",
              "      border-radius: 50%;\n",
              "      cursor: pointer;\n",
              "      display: none;\n",
              "      fill: #1967D2;\n",
              "      height: 32px;\n",
              "      padding: 0 0 0 0;\n",
              "      width: 32px;\n",
              "    }\n",
              "\n",
              "    .colab-df-convert:hover {\n",
              "      background-color: #E2EBFA;\n",
              "      box-shadow: 0px 1px 2px rgba(60, 64, 67, 0.3), 0px 1px 3px 1px rgba(60, 64, 67, 0.15);\n",
              "      fill: #174EA6;\n",
              "    }\n",
              "\n",
              "    [theme=dark] .colab-df-convert {\n",
              "      background-color: #3B4455;\n",
              "      fill: #D2E3FC;\n",
              "    }\n",
              "\n",
              "    [theme=dark] .colab-df-convert:hover {\n",
              "      background-color: #434B5C;\n",
              "      box-shadow: 0px 1px 3px 1px rgba(0, 0, 0, 0.15);\n",
              "      filter: drop-shadow(0px 1px 2px rgba(0, 0, 0, 0.3));\n",
              "      fill: #FFFFFF;\n",
              "    }\n",
              "  </style>\n",
              "\n",
              "      <script>\n",
              "        const buttonEl =\n",
              "          document.querySelector('#df-ae5d8862-3d95-4426-a80b-bca56337486d button.colab-df-convert');\n",
              "        buttonEl.style.display =\n",
              "          google.colab.kernel.accessAllowed ? 'block' : 'none';\n",
              "\n",
              "        async function convertToInteractive(key) {\n",
              "          const element = document.querySelector('#df-ae5d8862-3d95-4426-a80b-bca56337486d');\n",
              "          const dataTable =\n",
              "            await google.colab.kernel.invokeFunction('convertToInteractive',\n",
              "                                                     [key], {});\n",
              "          if (!dataTable) return;\n",
              "\n",
              "          const docLinkHtml = 'Like what you see? Visit the ' +\n",
              "            '<a target=\"_blank\" href=https://colab.research.google.com/notebooks/data_table.ipynb>data table notebook</a>'\n",
              "            + ' to learn more about interactive tables.';\n",
              "          element.innerHTML = '';\n",
              "          dataTable['output_type'] = 'display_data';\n",
              "          await google.colab.output.renderOutput(dataTable, element);\n",
              "          const docLink = document.createElement('div');\n",
              "          docLink.innerHTML = docLinkHtml;\n",
              "          element.appendChild(docLink);\n",
              "        }\n",
              "      </script>\n",
              "    </div>\n",
              "  </div>\n",
              "  "
            ]
          },
          "metadata": {},
          "execution_count": 11
        }
      ],
      "source": [
        "df = pd.read_csv('/content/gdrive/MyDrive/Practice Files/train.zip')\n",
        "df.head(3)"
      ]
    },
    {
      "cell_type": "markdown",
      "metadata": {
        "id": "TCUayDatHGyj"
      },
      "source": [
        "# Предобработка текста"
      ]
    },
    {
      "cell_type": "code",
      "execution_count": null,
      "metadata": {
        "id": "btPPxTW-uQTO"
      },
      "outputs": [],
      "source": [
        "stopwords = stopwords.words('english')"
      ]
    },
    {
      "cell_type": "code",
      "execution_count": null,
      "metadata": {
        "id": "MqtE_tXoHI8V"
      },
      "outputs": [],
      "source": [
        "def prepare_text(text):\n",
        "  tokens = simple_preprocess(text)\n",
        "  stemmer = SnowballStemmer('english', ignore_stopwords=True)\n",
        "  tokens = [stemmer.stem(tok) for tok in tokens if tok not in stopwords]\n",
        "  return tokens"
      ]
    },
    {
      "cell_type": "code",
      "execution_count": null,
      "metadata": {
        "id": "At6G4WUkHJ57"
      },
      "outputs": [],
      "source": [
        "X_train, X_test, y_train, y_test = train_test_split(df.Description, df['Class Index'],\n",
        "                                                    shuffle=True, random_state=42)"
      ]
    },
    {
      "cell_type": "code",
      "execution_count": null,
      "metadata": {
        "id": "z9eVjGesIZKO"
      },
      "outputs": [],
      "source": [
        "X_train = X_train.apply(prepare_text)\n",
        "X_test = X_test.apply(prepare_text)"
      ]
    },
    {
      "cell_type": "code",
      "execution_count": null,
      "metadata": {
        "colab": {
          "base_uri": "https://localhost:8080/"
        },
        "id": "naMa20gdJ9NU",
        "outputId": "6c010307-a2e7-4f74-e8ef-1b0ec813781a"
      },
      "outputs": [
        {
          "output_type": "stream",
          "name": "stdout",
          "text": [
            "<class 'numpy.ndarray'>\n",
            "(90000,)\n",
            "(30000,)\n"
          ]
        }
      ],
      "source": [
        "print(type(X_train.values))\n",
        "print(X_train.shape)\n",
        "print(X_test.shape)"
      ]
    },
    {
      "cell_type": "markdown",
      "metadata": {
        "id": "0CtprlbmLYAu"
      },
      "source": [
        "# Word2Vec обучение"
      ]
    },
    {
      "cell_type": "code",
      "source": [
        "w2v_model = Word2Vec(X_train.values, vector_size=200, window=7,\n",
        "                     min_count=10,\n",
        "                     epochs=15, workers=4)"
      ],
      "metadata": {
        "id": "CSQNi_OO6tT6"
      },
      "execution_count": null,
      "outputs": []
    },
    {
      "cell_type": "code",
      "execution_count": null,
      "metadata": {
        "colab": {
          "base_uri": "https://localhost:8080/"
        },
        "id": "NJCqmB6SOXlf",
        "outputId": "889967c3-3b3e-4bfa-d20a-114ded563f77"
      },
      "outputs": [
        {
          "output_type": "execute_result",
          "data": {
            "text/plain": [
              "{'vocab': 5070000, 'vectors': 8112000, 'syn1neg': 8112000, 'total': 21294000}"
            ]
          },
          "metadata": {},
          "execution_count": 31
        }
      ],
      "source": [
        "w2v_model.estimate_memory()"
      ]
    },
    {
      "cell_type": "code",
      "execution_count": null,
      "metadata": {
        "colab": {
          "base_uri": "https://localhost:8080/"
        },
        "id": "7334h1THPC7b",
        "outputId": "521d0459-1b2c-4e40-8ba3-4a6c4bc953cd"
      },
      "outputs": [
        {
          "output_type": "execute_result",
          "data": {
            "text/plain": [
              "10140"
            ]
          },
          "metadata": {},
          "execution_count": 32
        }
      ],
      "source": [
        "len(w2v_model.wv)"
      ]
    },
    {
      "cell_type": "markdown",
      "metadata": {
        "id": "AKlY8w4HUTeS"
      },
      "source": [
        "# Векторизация"
      ]
    },
    {
      "cell_type": "code",
      "execution_count": null,
      "metadata": {
        "id": "SAUyYPJ3QmjM"
      },
      "outputs": [],
      "source": [
        "def vectorize(text, model=w2v_model):\n",
        "    vectorized_text = np.array([model.wv[word] for word in text if word in model.wv])\n",
        "    if len(vectorized_text) == 0:\n",
        "        return np.zeros(100)\n",
        "    return vectorized_text.mean(axis=0)"
      ]
    },
    {
      "cell_type": "code",
      "execution_count": null,
      "metadata": {
        "id": "kTbBWokXbLYq"
      },
      "outputs": [],
      "source": [
        "# vectorize(X_train.values[0])"
      ]
    },
    {
      "cell_type": "code",
      "execution_count": null,
      "metadata": {
        "id": "34bHduTIU2kS"
      },
      "outputs": [],
      "source": [
        "X_train_vectorized = np.array([vectorize(sentence) for sentence in X_train])\n",
        "X_test_vectorized = np.array([vectorize(sentence) for sentence in X_test])"
      ]
    },
    {
      "cell_type": "markdown",
      "metadata": {
        "id": "VdBnDfsnXLuq"
      },
      "source": [
        "# Классификация"
      ]
    },
    {
      "cell_type": "markdown",
      "metadata": {
        "id": "sSH8YsLV1sKo"
      },
      "source": [
        "## MultinomialNB"
      ]
    },
    {
      "cell_type": "code",
      "execution_count": null,
      "metadata": {
        "id": "ZEaWHgpOjklx"
      },
      "outputs": [],
      "source": [
        "scaler = MinMaxScaler()"
      ]
    },
    {
      "cell_type": "code",
      "execution_count": null,
      "metadata": {
        "id": "_y-t3I7mh93x"
      },
      "outputs": [],
      "source": [
        "X_train_scaled = scaler.fit_transform(X_train_vectorized)\n",
        "X_test_scaled = scaler.transform(X_test_vectorized)"
      ]
    },
    {
      "cell_type": "code",
      "execution_count": null,
      "metadata": {
        "id": "YiRZCrdgXCEa"
      },
      "outputs": [],
      "source": [
        "clf_nb = MultinomialNB().fit(X_train_scaled, y_train)"
      ]
    },
    {
      "cell_type": "code",
      "execution_count": null,
      "metadata": {
        "id": "9xsGh2xnXhoT"
      },
      "outputs": [],
      "source": [
        "y_pred_nb = clf_nb.predict(X_test_scaled)"
      ]
    },
    {
      "cell_type": "code",
      "execution_count": null,
      "metadata": {
        "colab": {
          "base_uri": "https://localhost:8080/"
        },
        "id": "MqrXrnjJidf4",
        "outputId": "7b9920eb-62a2-441b-d620-bdbc8eb4ed49"
      },
      "outputs": [
        {
          "output_type": "stream",
          "name": "stdout",
          "text": [
            "Accuracy: 83.25%\n"
          ]
        }
      ],
      "source": [
        "acc_score = clf_nb.score(X_test_scaled, y_test) * 100\n",
        "print(f'Accuracy: {acc_score}%')"
      ]
    },
    {
      "cell_type": "code",
      "execution_count": null,
      "metadata": {
        "colab": {
          "base_uri": "https://localhost:8080/",
          "height": 450
        },
        "id": "0s2qg5Z3igIh",
        "outputId": "08db2efc-86db-4746-b8de-2078c291f50b"
      },
      "outputs": [
        {
          "output_type": "display_data",
          "data": {
            "text/plain": [
              "<Figure size 640x480 with 2 Axes>"
            ],
            "image/png": "[encoded data removed]"
          },
          "metadata": {}
        }
      ],
      "source": [
        "cm_nb = confusion_matrix(y_test.values, y_pred_nb)\n",
        "ConfusionMatrixDisplay(confusion_matrix=cm_nb, display_labels=clf_nb.classes_).plot();"
      ]
    },
    {
      "cell_type": "markdown",
      "metadata": {
        "id": "eNRM3Er31vyu"
      },
      "source": [
        "## SVC"
      ]
    },
    {
      "cell_type": "markdown",
      "metadata": {
        "id": "AE9fkC9x9cG0"
      },
      "source": [
        "грузится миллион лет, и точность в итоге неоч"
      ]
    },
    {
      "cell_type": "code",
      "execution_count": null,
      "metadata": {
        "id": "JDCAbTSVoAcw"
      },
      "outputs": [],
      "source": [
        "# clf_rbf = SVC(kernel='rbf', gamma=0.5, C=0.1).fit(X_train_vectorized, y_train)\n",
        "# clf_poly = SVC(kernel='poly', degree=3, C=1).fit(X_train_vectorized, y_train)"
      ]
    },
    {
      "cell_type": "code",
      "execution_count": null,
      "metadata": {
        "id": "xg8UM_C4zhDP"
      },
      "outputs": [],
      "source": [
        "# y_pred_rbf = clf_rbf.predict(X_test_vectorized)\n",
        "# y_pred_poly = clf_poly.predict(X_test_vectorized)"
      ]
    },
    {
      "cell_type": "code",
      "execution_count": null,
      "metadata": {
        "id": "e2kr0fVxzs6_"
      },
      "outputs": [],
      "source": [
        "# acc_score = clf_rbf.score(X_test, y_test) * 100\n",
        "# print(f'Accuracy: {acc_score}%')\n",
        "\n",
        "# acc_score = clf_poly.score(X_test, y_test) * 100\n",
        "# print(f'Accuracy: {acc_score}%')"
      ]
    },
    {
      "cell_type": "code",
      "execution_count": null,
      "metadata": {
        "id": "fCWr8b3b1TZn"
      },
      "outputs": [],
      "source": [
        "# cm_rbf = confusion_matrix(y_test.values, y_pred_rbf)\n",
        "# ConfusionMatrixDisplay(confusion_matrix=cm_rbf, display_labels=clf_rbf.classes_).plot();"
      ]
    },
    {
      "cell_type": "code",
      "execution_count": null,
      "metadata": {
        "id": "3clR-fdC1dGH"
      },
      "outputs": [],
      "source": [
        "# cm_poly = confusion_matrix(y_test.values, y_pred_poly)\n",
        "# ConfusionMatrixDisplay(confusion_matrix=cm_poly, display_labels=clf_poly.classes_).plot();"
      ]
    },
    {
      "cell_type": "markdown",
      "metadata": {
        "id": "05bJdnnB1yRW"
      },
      "source": [
        "## K-Nearest Neighbor (KNN)"
      ]
    },
    {
      "cell_type": "code",
      "execution_count": null,
      "metadata": {
        "id": "AqVSBZ36pTwI"
      },
      "outputs": [],
      "source": [
        "clf_knn = KNeighborsClassifier(n_neighbors=15).fit(X_train_scaled, y_train)"
      ]
    },
    {
      "cell_type": "code",
      "execution_count": null,
      "metadata": {
        "id": "IlEDZ6l72Raf"
      },
      "outputs": [],
      "source": [
        "y_pred_knn = clf_knn.predict(X_test_scaled)"
      ]
    },
    {
      "cell_type": "code",
      "execution_count": null,
      "metadata": {
        "colab": {
          "base_uri": "https://localhost:8080/"
        },
        "id": "Xdc2Ttkj4r0X",
        "outputId": "62d64274-a7dc-4245-fc19-2f85c344c512"
      },
      "outputs": [
        {
          "output_type": "stream",
          "name": "stdout",
          "text": [
            "Accuracy: 88.92333333333333%\n"
          ]
        }
      ],
      "source": [
        "acc_score = clf_knn.score(X_test_scaled, y_test) * 100\n",
        "print(f'Accuracy: {acc_score}%')"
      ]
    },
    {
      "cell_type": "code",
      "source": [
        "# from sklearn.model_selection import GridSearchCV"
      ],
      "metadata": {
        "id": "bJ-wzNNP9i9p"
      },
      "execution_count": null,
      "outputs": []
    },
    {
      "cell_type": "code",
      "source": [
        "# grid_search = GridSearchCV(KNeighborsClassifier(),\n",
        "#                            {\n",
        "#                               'n_neighbors':np.arange(2, 5),\n",
        "#                             }, \n",
        "#                            cv=5, scoring=\"r2\",verbose=1,n_jobs=-1\n",
        "#                            )\n",
        "\n",
        "# grid_search.fit(X_train_scaled, y_train)"
      ],
      "metadata": {
        "id": "2vmk2mOq9j8S"
      },
      "execution_count": null,
      "outputs": []
    },
    {
      "cell_type": "code",
      "source": [
        "# grid_search.best_params_"
      ],
      "metadata": {
        "id": "g8OU_tMFDz7D"
      },
      "execution_count": null,
      "outputs": []
    },
    {
      "cell_type": "code",
      "execution_count": null,
      "metadata": {
        "colab": {
          "base_uri": "https://localhost:8080/",
          "height": 449
        },
        "id": "rD-oMVqi4D7f",
        "outputId": "dba8027b-e1bb-4f03-e8cb-fd1acf1f395a"
      },
      "outputs": [
        {
          "output_type": "display_data",
          "data": {
            "text/plain": [
              "<Figure size 640x480 with 2 Axes>"
            ],
            "image/png": "[encoded data removed]"
          },
          "metadata": {}
        }
      ],
      "source": [
        "cm_knn = confusion_matrix(y_test.values, y_pred_knn)\n",
        "ConfusionMatrixDisplay(confusion_matrix=cm_knn, display_labels=clf_knn.classes_).plot();"
      ]
    },
    {
      "cell_type": "markdown",
      "source": [
        "# Атрибут sample"
      ],
      "metadata": {
        "id": "aSnQrRH89e06"
      }
    },
    {
      "cell_type": "code",
      "execution_count": null,
      "metadata": {
        "id": "A1WyaTx84_tf"
      },
      "outputs": [],
      "source": [
        "def classify(X_train_vectorized, X_test_vectorized):\n",
        "  # Multinomial NB\n",
        "  print('Multinomial NB')\n",
        "  scaler = MinMaxScaler()\n",
        "\n",
        "  X_train_scaled = scaler.fit_transform(X_train_vectorized)\n",
        "  X_test_scaled = scaler.transform(X_test_vectorized)\n",
        "\n",
        "  clf_nb = MultinomialNB().fit(X_train_scaled, y_train)\n",
        "\n",
        "  y_pred_nb = clf_nb.predict(X_test_scaled)\n",
        "\n",
        "  acc_score = clf_nb.score(X_test_scaled, y_test) * 100\n",
        "  print(f'Accuracy: {acc_score}%', end='\\n\\n\\n')\n",
        "\n",
        "  print('KNN')\n",
        "  clf_knn = KNeighborsClassifier(n_neighbors=10).fit(X_train_scaled, y_train)\n",
        "  \n",
        "  y_pred_knn = clf_knn.predict(X_test_scaled)\n",
        "\n",
        "  acc_score = clf_knn.score(X_test_scaled, y_test) * 100\n",
        "  print(f'Accuracy: {acc_score}%')"
      ]
    },
    {
      "cell_type": "code",
      "source": [
        "threshold_sample = np.arange(0, 0.00005, 0.00001)\n",
        "threshold_sample"
      ],
      "metadata": {
        "colab": {
          "base_uri": "https://localhost:8080/"
        },
        "id": "2RofnB0SAolK",
        "outputId": "4c0f54d6-365d-4f68-a842-e8634609adc6"
      },
      "execution_count": null,
      "outputs": [
        {
          "output_type": "execute_result",
          "data": {
            "text/plain": [
              "array([0.e+00, 1.e-05, 2.e-05, 3.e-05, 4.e-05])"
            ]
          },
          "metadata": {},
          "execution_count": 86
        }
      ]
    },
    {
      "cell_type": "code",
      "source": [
        "for i in range(len(threshold_sample)):\n",
        "  w2v_model_test = Word2Vec(X_train.values, vector_size=200, window=7,\n",
        "                     min_count=10, sample=threshold_sample[i],\n",
        "                     epochs=15, workers=4)\n",
        "  \n",
        "  length = len(w2v_model_test.wv)\n",
        "  print(length)\n",
        "\n",
        "  if length == len(w2v_model.wv):\n",
        "    continue\n",
        "  else:\n",
        "    X_train_vectorized = np.array([vectorize(sentence) for sentence in X_train])\n",
        "    X_test_vectorized = np.array([vectorize(sentence) for sentence in X_test])\n",
        "    \n",
        "    classify(X_train_vectorized, X_test_vectorized)"
      ],
      "metadata": {
        "colab": {
          "base_uri": "https://localhost:8080/"
        },
        "id": "vnCew-dOxr8G",
        "outputId": "2fbae41b-a0a0-4aaa-cc81-2600e9597803"
      },
      "execution_count": null,
      "outputs": [
        {
          "output_type": "stream",
          "name": "stdout",
          "text": [
            "10140\n",
            "10140\n",
            "10140\n",
            "10140\n",
            "10140\n"
          ]
        }
      ]
    },
    {
      "cell_type": "code",
      "source": [],
      "metadata": {
        "id": "yJcdxsNs9ZYC"
      },
      "execution_count": null,
      "outputs": []
    }
  ],
  "metadata": {
    "colab": {
      "toc_visible": true,
      "provenance": [],
      "authorship_tag": "ABX9TyOghNMpbR/kpe89yUurgiYr",
      "include_colab_link": true
    },
    "kernelspec": {
      "display_name": "Python 3",
      "name": "python3"
    },
    "language_info": {
      "name": "python"
    }
  },
  "nbformat": 4,
  "nbformat_minor": 0
}